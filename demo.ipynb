{
 "cells": [
  {
   "cell_type": "markdown",
   "id": "da84fada",
   "metadata": {},
   "source": [
    "# Poisson Pressure Solver"
   ]
  },
  {
   "cell_type": "markdown",
   "id": "0edbeb60",
   "metadata": {},
   "source": [
    "Let $(x,y,z)\\in[x_{\\text{min}}, x_{\\text{max}}]\\times[y_{\\text{min}}, y_{\\text{max}}]\\times[z_{\\text{min}}, z_{\\text{max}}]=[0, 2\\pi]^3=\\Omega$, \n",
    "then the Poisson's problem is defined as\n",
    "\\begin{equation}\n",
    "    \\begin{split}\n",
    "        \\nabla^2p(x,y,z) &= \\left(\\dfrac{\\partial^2}{\\partial x^2} + \\dfrac{\\partial^2}{\\partial y^2} + \\dfrac{\\partial^2}{\\partial z^2}\\right)p(x,y,z) \n",
    "            = f(x,y,z) \\quad \\text{in} ~ \\Omega,\\\\\n",
    "        \\frac{\\partial p}{\\partial z} &=0, \\quad \\text{on} ~ z=z_{\\text{min}}, \\\\\n",
    "        p &= 0, \\quad \\text{on} ~ z=z_{\\text{max}},\n",
    "    \\end{split}\n",
    "\\end{equation}\n",
    "\n",
    "with periodic boundary conditions in $x$ and $y$ directions, and\n",
    "\n",
    "\\begin{equation}\n",
    "    f(x,y,z) = \\frac{1}{\\pi^3}\n",
    "        \\left[\n",
    "            \\left(z^3-2\\pi z^2\\right)\n",
    "            \\left(\n",
    "            \\dfrac{2}{s_x}\\left(1-\\dfrac{2}{s_x}(x-x_0)^2\\right) + \n",
    "            \\dfrac{2}{s_y}\\left(1-\\dfrac{2}{s_y}(y-y_0)^2\\right)\n",
    "            \\right) \n",
    "            + g(z)\n",
    "        \\right]\n",
    "        G(x,y,z),\n",
    "\\end{equation}\n",
    "\n",
    "with\n",
    "\n",
    "\\begin{equation*}\n",
    "    G(x,y,z)=\\exp\\left(-\\left(\\frac{(x - x_0)^2}{s_x} + \\frac{(y - y_0)^2}{s_y}+ \\frac{(z - z_0)^2}{s_z}\\right)\\right),\n",
    "\\end{equation*}\n",
    "\n",
    "and\n",
    "\n",
    "\\begin{equation*}\n",
    "    g(z) = -\\dfrac{4}{s_z}z^5+\\left(\\dfrac{8\\pi  + 8z_0}{s_z^2}\\right)z^4 - \n",
    "        \\left(\\dfrac{16\\pi z_0 + 4z_0^2-14s_z}{s_z^2}\\right)z^3 + \\\\\n",
    "        \\left(\\dfrac{8\\pi z_0^2 - 12s_zz_0 - 20\\pi s_z}{s_z^2}\\right)z^2 + \\left(\\dfrac{16\\pi z_0 - 6s_z}{s_z}\\right)z + 4\\pi\n",
    "\\end{equation*}\n",
    "\n",
    "The solution of this problem is\n",
    "\\begin{equation}\n",
    "    p(x,y,z) = \\frac{1}{\\pi^3}(2\\pi z^2-z^3)\\,G(x,y,z).\n",
    "\\end{equation}\n",
    "\n",
    "We use $x_0=y_0=z_0=\\pi$, and $s_x=s_y=s_z=.5$."
   ]
  },
  {
   "cell_type": "code",
   "execution_count": 25,
   "id": "ca717f87",
   "metadata": {},
   "outputs": [],
   "source": [
    "import time as time\n",
    "from fftfd import *"
   ]
  },
  {
   "cell_type": "code",
   "execution_count": 26,
   "id": "89f4d40c",
   "metadata": {},
   "outputs": [],
   "source": [
    "x0 = y0 = z0 = np.pi \n",
    "sx = sy = sz = .5"
   ]
  },
  {
   "cell_type": "code",
   "execution_count": 27,
   "id": "a6882572",
   "metadata": {},
   "outputs": [],
   "source": [
    "# Functions\n",
    "G = lambda x, y, z: np.exp(-((x - x0) ** 2 / sx + (y - y0) ** 2 / sy + (z - z0) ** 2 / sz))\n",
    "g = lambda z: -4 * z ** 5 / sz ** 2 + (8 * np.pi + 8 * z0) * z ** 4 / sz ** 2 - (16 * np.pi * z0 + 4 * z0 ** 2 - 14 * sz) * z ** 3 / sz ** 2 + \\\n",
    "    (8 * np.pi * z0 ** 2 - 12 * sz * z0 - 20 * np.pi * sz) * z ** 2 / sz ** 2 + (16 * np.pi * z0 - 6 * sz) * z / sz  + 4 * np.pi\n",
    "p = lambda x, y, z: (2 * np.pi * z ** 2 - z ** 3) * G(x, y, z) / np.pi ** 3\n",
    "f = lambda x, y, z: ((z ** 3 - 2 * np.pi * z ** 2) * (2 * (1 - 2 * (x - x0) ** 2 / sx) / sx + 2 * (1 - 2 * (y - y0) ** 2 / sy) / sy) + g(z)) * G(x, y, z) / np.pi ** 3\n",
    "pz = lambda x, y, z: (2 * z ** 4 / sz - (4 * np.pi + 2 * z0) * z ** 3 / sz + (4 * np.pi * z0 - 3 * sz) * z ** 2 / sz + 4 * np.pi * z) * G(x, y, z) / np.pi ** 3\n",
    "#pzz = lambda x, y, z: \n",
    "log_abs = lambda p, pa: np.log(np.abs(p - pa) + 1e-16)"
   ]
  },
  {
   "cell_type": "code",
   "execution_count": 28,
   "id": "5a14f997",
   "metadata": {},
   "outputs": [],
   "source": [
    "def experiment(Nx, Ny, Nz):\n",
    "    x = np.linspace(0, 2 * np.pi, Nx)\n",
    "    y = np.linspace(0, 2 * np.pi, Ny)\n",
    "    z = np.linspace(0, 2 * np.pi, Nz)\n",
    "    #dx, dy, dz = x[1] - x[0], y[1] - y[0], z[1] - z[0]\n",
    "    X, Y, Z = np.meshgrid(x, y, z, indexing='ij')\n",
    "    P = p(X, Y, Z)\n",
    "    F = f(X, Y, Z)\n",
    "    return x, y, z, P, F"
   ]
  },
  {
   "cell_type": "code",
   "execution_count": 40,
   "id": "fb97b1c8",
   "metadata": {},
   "outputs": [],
   "source": [
    "Ns = np.array([16, 32, 64, 128])\n",
    "errors = np.zeros(len(Ns))\n",
    "times = np.zeros(len(Ns))\n",
    "dxs = np.zeros(len(Ns))\n",
    "dys = np.zeros(len(Ns))\n",
    "dzs = np.zeros(len(Ns))\n",
    "for i in range(len(Ns)):\n",
    "    N = Ns[i]\n",
    "    x, y, z, P, F = experiment(N, N, N)\n",
    "    start = time.time()\n",
    "    P_a = fftfd(F, x, y, z)\n",
    "    end = time.time()\n",
    "    dxs[i] = x[1] - x[0]\n",
    "    dys[i] = y[1] - y[0]\n",
    "    dzs[i] = z[1] - z[0]    \n",
    "    errors[i] = np.linalg.norm(P.flatten() - P_a.flatten()) / np.linalg.norm(P.flatten())\n",
    "    times[i] = end - start"
   ]
  },
  {
   "cell_type": "code",
   "execution_count": 59,
   "id": "dfb853b6",
   "metadata": {},
   "outputs": [
    {
     "data": {
      "text/plain": [
       "[]"
      ]
     },
     "execution_count": 59,
     "metadata": {},
     "output_type": "execute_result"
    },
    {
     "data": {
      "image/png": "[encoded data removed]",
      "text/plain": [
       "<Figure size 640x480 with 1 Axes>"
      ]
     },
     "metadata": {},
     "output_type": "display_data"
    }
   ],
   "source": [
    "# plt.plot(errors, 'o-')\n",
    "#plt.plot(dzs[::-1] ** 2, 'b-o')\n",
    "plt.plot(Ns, times, 'x--')\n",
    "plt.plot(Ns, Ns ** 3 * np.log(Ns) / 1e6, 'b-o', label=r'$N^3 \\log(N)$')\n",
    "plt.grid(True)\n",
    "plt.yscale('log')\n",
    "plt.xlabel(r'$N$')\n",
    "plt.ylabel('Times (s)')\n",
    "plt.xscale('log', base=2)\n",
    "plt.legend()\n",
    "plt.plot()"
   ]
  },
  {
   "cell_type": "code",
   "execution_count": 31,
   "id": "fb5ce5bb",
   "metadata": {},
   "outputs": [],
   "source": [
    "# Nx, Ny, Nz = 128, 128, 128\n",
    "# x = np.linspace(0, 2 * np.pi, Nx)\n",
    "# y = np.linspace(0, 2 * np.pi, Ny)\n",
    "# z = np.linspace(0, 2 * np.pi, Nz)\n",
    "# #dx, dy, dz = x[1] - x[0], y[1] - y[0], z[1] - z[0]\n",
    "# X, Y, Z = np.meshgrid(x, y, z, indexing='ij')"
   ]
  },
  {
   "cell_type": "code",
   "execution_count": 32,
   "id": "67b4627e",
   "metadata": {},
   "outputs": [],
   "source": [
    "# P = p(X, Y, Z)\n",
    "# F = f(X, Y, Z)\n",
    "# pxx = np.diff(P, 2, axis=0) / dx ** 2\n",
    "# pyy = np.diff(P, 2, axis=1) / dy ** 2\n",
    "# pzz = np.diff(P, 2, axis=2) / dz ** 2\n",
    "# lap_p = pxx[:, 1:-1, 1:-1] + pyy[1:-1, :, 1:-1] + pzz[1:-1, 1:-1, :]\n",
    "# p_z = (np.roll(P, -1, axis=2) - np.roll(P, 1, axis=2)) / (2 * dz)\n",
    "# p_z = np.gradient(P, dz, axis=2, edge_order=2)\n",
    "# p_xx = (np.roll(P, 1, axis=0) + np.roll(P, -1, axis=0) - 2 * P) / dx ** 2\n",
    "# p_yy = (np.roll(P, 1, axis=1) + np.roll(P, -1, axis=1) - 2 * P) / dy ** 2\n",
    "# #p_zz = (np.roll(P, 1, axis=2) + np.roll(P, -1, axis=2) - 2 * P) / dz ** 2\n",
    "# p_zz = np.gradient(p_z, dz, axis=2, edge_order=2)\n",
    "# lap_p = p_xx + p_yy + p_zz\n",
    "#plot(x, y, z, lap_p - F)"
   ]
  },
  {
   "cell_type": "code",
   "execution_count": 33,
   "id": "20b6cd51",
   "metadata": {},
   "outputs": [],
   "source": [
    "N = 256\n",
    "x, y, z, P, F = experiment(N, N, N)\n",
    "P_a = fftfd(F, x, y, z)"
   ]
  },
  {
   "cell_type": "code",
   "execution_count": 35,
   "id": "cb28f331",
   "metadata": {},
   "outputs": [
    {
     "data": {
      "image/png": "[encoded data removed]",
      "text/plain": [
       "<Figure size 1400x500 with 6 Axes>"
      ]
     },
     "metadata": {},
     "output_type": "display_data"
    }
   ],
   "source": [
    "plot(x, y, z, P)"
   ]
  },
  {
   "cell_type": "markdown",
   "id": "4b149c20",
   "metadata": {},
   "source": [
    "### Analytic verification"
   ]
  },
  {
   "cell_type": "code",
   "execution_count": null,
   "id": "ae05748b",
   "metadata": {
    "scrolled": false
   },
   "outputs": [],
   "source": [
    "# Variables\n",
    "x_sym, y_sym = sym.symbols('x y')\n",
    "# Domain\n",
    "x_min, x_max = 0, 2 * np.pi\n",
    "y_min, y_max = 0, 2 * np.pi\n",
    "# Parameters of solution\n",
    "x_0, y0 = (x_max + x_min) / 2, (y_max + y_min) / 2\n",
    "sx, sy = .5, .5\n",
    "# Solution\n",
    "#p_sym = sym.exp(-((x_sym - x_0) ** 2 / sx + (y_sym - y_0) ** 2 / sy))\n",
    "p_sym = (2 * np.pi * y_sym ** 2 - y_sym ** 3) * sym.exp(-((x_sym - x_0) ** 2 / sx + (y_sym - y0) ** 2 / sy)) / (np.pi ** 3)\n",
    "# Partial derivatives\n",
    "px_sym = sym.diff(p_sym, x_sym) #px\n",
    "pxx_sym = sym.diff(p_sym, x_sym, 2) # pxx\n",
    "py_sym = sym.diff(p_sym, y_sym) # py\n",
    "pyy_sym = sym.diff(p_sym, y_sym, 2) # pyy\n",
    "# Functions to evaluate\n",
    "pyl = sym.lambdify([x_sym, y_sym], py_sym, 'numpy') # py \n",
    "pl = sym.lambdify([x_sym, y_sym], p_sym, 'numpy') # p\n",
    "f_sym = pxx_sym + pyy_sym\n",
    "fl_sym = sym.lambdify([x_sym, y_sym], f_sym, 'numpy') # f\n",
    "f_sym"
   ]
  },
  {
   "cell_type": "markdown",
   "id": "bcd1a9b7",
   "metadata": {},
   "source": [
    "## Numerics"
   ]
  },
  {
   "cell_type": "markdown",
   "id": "b03f88bb",
   "metadata": {},
   "source": [
    "\\begin{equation}\n",
    "    \\begin{split}\n",
    "        \\frac{\\partial p}{\\partial y} &= \\frac{1}{\\pi^3}\\left[\n",
    "            (4\\pi y-3y^2)\\exp\\left(-\\left(\\frac{(x - x_0)^2}{s_x} + \\frac{(y - y_0)^2}{s_y}\\right)\\right) - \n",
    "            \\frac{2}{s_y}(y-y_0)(2\\pi y^2-y^3)\\exp\\left(-\\left(\\frac{(x - x_0)^2}{s_x} + \\frac{(y - y_0)^2}{s_y}\\right)\\right)\n",
    "        \\right] \\\\\n",
    "        &= \\frac{1}{\\pi^3}\\left[\n",
    "            \\left((4\\pi y-3y^2) - \\frac{2}{s_y}(y-y_0)(2\\pi y^2-y^3)\\right)\n",
    "            \\exp\\left(-\\left(\\frac{(x - x_0)^2}{s_x} + \\frac{(y - y_0)^2}{s_y}\\right)\\right)\n",
    "        \\right]\n",
    "    \\end{split}\n",
    "\\end{equation}"
   ]
  },
  {
   "cell_type": "code",
   "execution_count": null,
   "id": "12250124",
   "metadata": {},
   "outputs": [],
   "source": [
    "# Analytic solution\n",
    "G = lambda x, y: np.exp(-((x - x_0) ** 2 / sx + (y - y0) ** 2 / sy)) \n",
    "p = lambda x, y: (2 * np.pi * y ** 2 - y ** 3) * G(x, y) / (np.pi ** 3)\n",
    "r = lambda y: (4 * np.pi - 6 * y) - 2 / sy * ((2 * np.pi * y ** 2 - y ** 3) + (y - y0) * (4 * np.pi * y - 3 * y ** 2)) - \\\n",
    "    2 / sy * (y - y0) * ((4 * np.pi * y - 3 * y ** 2) - 2 / sy * (y - y0) * (2 * np.pi * y ** 2 - y ** 3))\n",
    "py = lambda x, y: ((4 * np.pi * y - 3 * y ** 2) - 2 / sy * (y - y0) * (2 * np.pi * y ** 2 - y ** 3)) * G(x, y) / np.pi ** 3\n",
    "pxx = lambda x, y: -2 / (sx * np.pi ** 3) * (2 * np.pi * y ** 2 - y ** 3) * (1 - 2 / sx * (x - x_0) ** 2) * G(x, y)\n",
    "pyy = lambda x, y: r(y) * G (x, y) / np.pi ** 3\n",
    "f = lambda x, y: pxx(x, y) + pyy(x, y)\n",
    "log_abs = lambda p, pa: np.log(np.abs(p - pa) + 1e-16)"
   ]
  },
  {
   "cell_type": "code",
   "execution_count": null,
   "id": "2380b26c",
   "metadata": {},
   "outputs": [],
   "source": [
    "Nx, Ny = 31, 32\n",
    "x_min, x_max = 0, 2 * np.pi\n",
    "y_min, y_max = 0, 2 * np.pi\n",
    "x = np.linspace(x_min, x_max, Nx)\n",
    "y = np.linspace(y_min, y_max, Ny)\n",
    "dx, dy = x[1] - x[0], y[1] - y[0]\n",
    "X, Y = np.meshgrid(x, y)\n",
    "p_top = 0\n",
    "P = p(X, Y)\n",
    "F = f(X, Y)"
   ]
  },
  {
   "cell_type": "code",
   "execution_count": null,
   "id": "70f2d0ea",
   "metadata": {},
   "outputs": [],
   "source": []
  },
  {
   "cell_type": "markdown",
   "id": "9e48bb7f",
   "metadata": {},
   "source": [
    "### Analytic Solution"
   ]
  },
  {
   "cell_type": "markdown",
   "id": "24dd8274",
   "metadata": {},
   "source": [
    "#### Sympy"
   ]
  },
  {
   "cell_type": "code",
   "execution_count": null,
   "id": "8c882082",
   "metadata": {},
   "outputs": [],
   "source": [
    "Pl = pl(X, Y)\n",
    "plot(X, Y, Pl)\n",
    "print(np.min(Pl), np.max(Pl))"
   ]
  },
  {
   "cell_type": "markdown",
   "id": "c10ad5ce",
   "metadata": {},
   "source": [
    "#### Numpy"
   ]
  },
  {
   "cell_type": "code",
   "execution_count": null,
   "id": "f2b11894",
   "metadata": {
    "scrolled": true
   },
   "outputs": [],
   "source": [
    "plot(X, Y, P)\n",
    "print(np.min(P), np.max(P))"
   ]
  },
  {
   "cell_type": "code",
   "execution_count": null,
   "id": "d01360d3",
   "metadata": {},
   "outputs": [],
   "source": [
    "plot(X, Y, log_abs(P, Pl))\n",
    "print(error(P, Pl))"
   ]
  },
  {
   "cell_type": "markdown",
   "id": "588c2104",
   "metadata": {},
   "source": [
    "$p(x, 2\\,\\pi) = 0$"
   ]
  },
  {
   "cell_type": "code",
   "execution_count": null,
   "id": "9827d41e",
   "metadata": {},
   "outputs": [],
   "source": [
    "plt.plot(x, pl(x, 2 * np.pi), label=\"sympy\")\n",
    "plt.plot(x, p(x, 2 * np.pi), label=\"numpy\")\n",
    "#plt.plot(x, px2pi(x))\n",
    "#plt.yscale('log')\n",
    "plt.legend()\n",
    "plt.show()"
   ]
  },
  {
   "cell_type": "markdown",
   "id": "03a9c4d1",
   "metadata": {},
   "source": [
    "$\\frac{\\partial p}{\\partial y} = 0$"
   ]
  },
  {
   "cell_type": "code",
   "execution_count": null,
   "id": "6044a897",
   "metadata": {},
   "outputs": [],
   "source": [
    "plt.plot(x, pyl(x, 0), label=\"sympy\")\n",
    "plt.plot(x, py(x, 0), label=\"numpy\")\n",
    "#plt.plot(x, pyx0(x))\n",
    "#plt.yscale('log')\n",
    "plt.legend()\n",
    "plt.show()"
   ]
  },
  {
   "cell_type": "code",
   "execution_count": null,
   "id": "6f470df5",
   "metadata": {},
   "outputs": [],
   "source": [
    "plot(X, Y, f(X, Y))"
   ]
  },
  {
   "cell_type": "code",
   "execution_count": null,
   "id": "35710b80",
   "metadata": {
    "scrolled": true
   },
   "outputs": [],
   "source": [
    "plot(X, Y, fl_sym(X, Y))"
   ]
  },
  {
   "cell_type": "code",
   "execution_count": null,
   "id": "c87eb20d",
   "metadata": {},
   "outputs": [],
   "source": [
    "plot(X, Y, log_abs(f(X, Y), fl_sym(X, Y)))"
   ]
  },
  {
   "cell_type": "markdown",
   "id": "a8b08f58",
   "metadata": {},
   "source": [
    "### Using Finite Difference\n",
    "\n",
    "\\begin{equation}\n",
    "    \\frac{p_{i+1,j} - 2p_{i,j} + p_{i-1,j}}{\\Delta x^2} + \\frac{p_{i,j+1} - 2p_{i,j} + p_{i,j-1}}{\\Delta y^2} = f_{i,j}\n",
    "\\end{equation}\n",
    "\n",
    "#### Iterative\n",
    "\n",
    "\\begin{equation}\n",
    "    \\begin{split}\n",
    "        -2\\left(\\frac{1}{\\Delta x^2} + \\frac{1}{\\Delta y^2}\\right)p_{i,j} &=f_{i,j} \n",
    "        - \\frac{1}{\\Delta x^2}\\left(p_{i+1,j} + p_{i-1,j}\\right) \n",
    "        - \\frac{1}{\\Delta y^2}\\left(p_{i,j+1} + p_{i,j-1}\\right) \\\\\n",
    "        2\\left(\\frac{\\Delta y^2 + \\Delta x^2}{\\Delta x^2\\Delta y^2}\\right)p_{i,j} &=\n",
    "        \\frac{1}{\\Delta x^2}\\left(p_{i+1,j} + p_{i-1,j}\\right) +\n",
    "        \\frac{1}{\\Delta y^2}\\left(p_{i,j+1} + p_{i,j-1}\\right) - f_{i,j} \\\\\n",
    "        p_{i,j} &= \\frac{1}{2\\left(\\Delta x^2 + \\Delta y^2\\right)}\n",
    "            \\left[\n",
    "                \\Delta y^2\\left(p_{i+1,j} + p_{i-1,j}\\right) +\n",
    "                \\Delta x^2\\left(p_{i,j+1} + p_{i,j-1}\\right) -\n",
    "                \\Delta x^2\\Delta y^2f_{i,j}\n",
    "            \\right] \\\\\n",
    "        p_{i,j}^{n+1} &= \\frac{1}{2\\left(\\Delta x^2 + \\Delta y^2\\right)}\n",
    "            \\left[\n",
    "                \\Delta y^2\\left(p_{i+1,j}^{n} + p_{i-1,j}^{n}\\right) +\n",
    "                \\Delta x^2\\left(p_{i,j+1}^{n} + p_{i,j-1}^{n}\\right) -\n",
    "                \\Delta x^2\\Delta y^2f_{i,j}\n",
    "            \\right]\n",
    "    \\end{split}\n",
    "\\end{equation}"
   ]
  },
  {
   "cell_type": "code",
   "execution_count": null,
   "id": "42019f32",
   "metadata": {},
   "outputs": [],
   "source": [
    "P_FD = fd_solver(x, y, F, p_top, method='direct', tol=1e-12, n_iter=4000)\n",
    "np.min(P_FD), np.max(P_FD)"
   ]
  },
  {
   "cell_type": "code",
   "execution_count": null,
   "id": "6e345ff9",
   "metadata": {},
   "outputs": [],
   "source": [
    "plot(X, Y, P_FD)"
   ]
  },
  {
   "cell_type": "code",
   "execution_count": null,
   "id": "ddd18e29",
   "metadata": {},
   "outputs": [],
   "source": [
    "plot(X, Y, log_abs(P, P_FD))\n",
    "error(P, P_FD)"
   ]
  },
  {
   "cell_type": "markdown",
   "id": "4e1635da",
   "metadata": {},
   "source": [
    "### Using FFT-FD"
   ]
  },
  {
   "cell_type": "code",
   "execution_count": null,
   "id": "119337bf",
   "metadata": {},
   "outputs": [],
   "source": [
    "P_FFTFD = fftfd_solver(x, y, F, p_top)\n",
    "print(np.min(P_FFTFD), np.max(P_FFTFD))"
   ]
  },
  {
   "cell_type": "code",
   "execution_count": null,
   "id": "4b448fbe",
   "metadata": {},
   "outputs": [],
   "source": [
    "plot(X, Y, P_FFTFD)"
   ]
  },
  {
   "cell_type": "code",
   "execution_count": null,
   "id": "3415ff4f",
   "metadata": {},
   "outputs": [],
   "source": [
    "plot(X, Y, log_abs(P, P_FFTFD))\n",
    "error(P, P_FFTFD)"
   ]
  },
  {
   "cell_type": "code",
   "execution_count": null,
   "id": "db9cb14b",
   "metadata": {
    "scrolled": false
   },
   "outputs": [],
   "source": [
    "nn = 4\n",
    "NN = np.logspace(4, 4 + nn, nn + 1, base=2, dtype=int) \n",
    "for nnn in NN:\n",
    "    print(\"N:\", nnn)\n",
    "    _, __ = experiment(nnn-1, nnn, f, p, p_top, fftfd_solver)\n",
    "    print()"
   ]
  },
  {
   "cell_type": "code",
   "execution_count": null,
   "id": "fded7c4a",
   "metadata": {},
   "outputs": [],
   "source": [
    "n = 4\n",
    "N = np.logspace(4, 4 + n, n + 1, base=2, dtype=int) \n",
    "error_fdc = np.zeros(N.shape[0])\n",
    "error_fftfd = np.zeros(N.shape[0])\n",
    "print(N)"
   ]
  },
  {
   "cell_type": "code",
   "execution_count": null,
   "id": "63468a15",
   "metadata": {},
   "outputs": [],
   "source": [
    "for i, n in enumerate(N):\n",
    "    print(i, n)\n",
    "    P, P_fdc = experiment(n-1, n, f, p, p_top, fd_solver)\n",
    "    P, P_fftfd = experiment(n-1, n, f, p, p_top, fftfd_solver)\n",
    "    error_fdc[i] = error(P, P_fdc)\n",
    "    error_fftfd[i] = error(P, P_fftfd)"
   ]
  },
  {
   "cell_type": "code",
   "execution_count": null,
   "id": "f45f2ebf",
   "metadata": {},
   "outputs": [],
   "source": [
    "plt.plot(N, error_fdc, 'r-x', markersize=20, label=\"FD\")\n",
    "plt.plot(N, error_fftfd, 'g-d', label=\"FFT-FD\")\n",
    "plt.grid(True)\n",
    "plt.xscale('log')\n",
    "plt.yscale('log')\n",
    "plt.legend()\n",
    "plt.show()"
   ]
  },
  {
   "cell_type": "code",
   "execution_count": null,
   "id": "440bed3f",
   "metadata": {},
   "outputs": [],
   "source": [
    "plt.imshow(P_fftfd, origin=\"lower\")\n",
    "plt.colorbar()\n",
    "plt.show()\n",
    "print(np.min(P_fftfd), np.max(P_fftfd))"
   ]
  },
  {
   "cell_type": "markdown",
   "id": "c4082cc2",
   "metadata": {},
   "source": [
    "---"
   ]
  }
 ],
 "metadata": {
  "kernelspec": {
   "display_name": "Python 3 (ipykernel)",
   "language": "python",
   "name": "python3"
  },
  "language_info": {
   "codemirror_mode": {
    "name": "ipython",
    "version": 3
   },
   "file_extension": ".py",
   "mimetype": "text/x-python",
   "name": "python",
   "nbconvert_exporter": "python",
   "pygments_lexer": "ipython3",
   "version": "3.10.10"
  }
 },
 "nbformat": 4,
 "nbformat_minor": 5
}
